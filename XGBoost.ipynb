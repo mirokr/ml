{
  "nbformat": 4,
  "nbformat_minor": 0,
  "metadata": {
    "colab": {
      "name": "XGBoost.ipynb",
      "provenance": [],
      "authorship_tag": "ABX9TyPOz1sQ1L9Ds8NYpFV0kCPA"
    },
    "kernelspec": {
      "name": "python3",
      "display_name": "Python 3"
    },
    "language_info": {
      "name": "python"
    }
  },
  "cells": [
    {
      "cell_type": "code",
      "metadata": {
        "id": "cJCsHqVtM8IN"
      },
      "source": [
        "import pandas as pd\n",
        "from sklearn.model_selection import train_test_split\n",
        "url = 'https://raw.githubusercontent.com/mirokr/ml/main/melb_data.csv'\n",
        "data = pd.read_csv(url)"
      ],
      "execution_count": 1,
      "outputs": []
    },
    {
      "cell_type": "code",
      "metadata": {
        "id": "aeDuEZ0zNvC1"
      },
      "source": [
        "columns_to_use = [ 'Rooms', 'Distance', 'Landsize', 'BuildingArea', 'YearBuilt']\n",
        "X = data[columns_to_use]\n",
        "y = data.Price"
      ],
      "execution_count": 3,
      "outputs": []
    },
    {
      "cell_type": "code",
      "metadata": {
        "id": "cr7oFn3YOFNj"
      },
      "source": [
        "X_train, X_valid, y_train, y_valid = train_test_split(X, y)"
      ],
      "execution_count": 12,
      "outputs": []
    },
    {
      "cell_type": "code",
      "metadata": {
        "id": "_Q_LLvjlOUFD"
      },
      "source": [
        "from xgboost import XGBRegressor"
      ],
      "execution_count": 5,
      "outputs": []
    },
    {
      "cell_type": "code",
      "metadata": {
        "colab": {
          "base_uri": "https://localhost:8080/"
        },
        "id": "CnJJjAsIOb4x",
        "outputId": "775ee552-809d-4eaa-d0de-6849954a5081"
      },
      "source": [
        "m_model = XGBRegressor()\n",
        "m_model.fit(X_train, y_train)"
      ],
      "execution_count": 13,
      "outputs": [
        {
          "output_type": "stream",
          "name": "stdout",
          "text": [
            "[12:34:02] WARNING: /workspace/src/objective/regression_obj.cu:152: reg:linear is now deprecated in favor of reg:squarederror.\n"
          ]
        },
        {
          "output_type": "execute_result",
          "data": {
            "text/plain": [
              "XGBRegressor(base_score=0.5, booster='gbtree', colsample_bylevel=1,\n",
              "             colsample_bynode=1, colsample_bytree=1, gamma=0,\n",
              "             importance_type='gain', learning_rate=0.1, max_delta_step=0,\n",
              "             max_depth=3, min_child_weight=1, missing=None, n_estimators=100,\n",
              "             n_jobs=1, nthread=None, objective='reg:linear', random_state=0,\n",
              "             reg_alpha=0, reg_lambda=1, scale_pos_weight=1, seed=None,\n",
              "             silent=None, subsample=1, verbosity=1)"
            ]
          },
          "metadata": {},
          "execution_count": 13
        }
      ]
    },
    {
      "cell_type": "code",
      "metadata": {
        "id": "LND7tbYUOlwf"
      },
      "source": [
        "from sklearn.metrics import mean_absolute_error"
      ],
      "execution_count": 8,
      "outputs": []
    },
    {
      "cell_type": "code",
      "metadata": {
        "colab": {
          "base_uri": "https://localhost:8080/"
        },
        "id": "gg6D77aWPOgU",
        "outputId": "9c6e26fc-699f-46da-dbbe-a17276f94c95"
      },
      "source": [
        "predictions = m_model.predict(X_valid)\n",
        "print('MAE score:'+ str(mean_absolute_error(predictions, y_valid)))"
      ],
      "execution_count": 14,
      "outputs": [
        {
          "output_type": "stream",
          "name": "stdout",
          "text": [
            "MAE score:266280.743478461\n"
          ]
        }
      ]
    },
    {
      "cell_type": "code",
      "metadata": {
        "colab": {
          "base_uri": "https://localhost:8080/"
        },
        "id": "8G3KUNPbPgCl",
        "outputId": "8701078c-01d1-4963-c028-26ef77198682"
      },
      "source": [
        "m_model = XGBRegressor(n_estimators=600)\n",
        "m_model.fit(X_train, y_train)"
      ],
      "execution_count": 15,
      "outputs": [
        {
          "output_type": "stream",
          "name": "stdout",
          "text": [
            "[12:34:54] WARNING: /workspace/src/objective/regression_obj.cu:152: reg:linear is now deprecated in favor of reg:squarederror.\n"
          ]
        },
        {
          "output_type": "execute_result",
          "data": {
            "text/plain": [
              "XGBRegressor(base_score=0.5, booster='gbtree', colsample_bylevel=1,\n",
              "             colsample_bynode=1, colsample_bytree=1, gamma=0,\n",
              "             importance_type='gain', learning_rate=0.1, max_delta_step=0,\n",
              "             max_depth=3, min_child_weight=1, missing=None, n_estimators=600,\n",
              "             n_jobs=1, nthread=None, objective='reg:linear', random_state=0,\n",
              "             reg_alpha=0, reg_lambda=1, scale_pos_weight=1, seed=None,\n",
              "             silent=None, subsample=1, verbosity=1)"
            ]
          },
          "metadata": {},
          "execution_count": 15
        }
      ]
    },
    {
      "cell_type": "code",
      "metadata": {
        "colab": {
          "base_uri": "https://localhost:8080/"
        },
        "id": "6cWzFNHAQL0F",
        "outputId": "24c6d170-5236-491d-89a5-98b894a7af6c"
      },
      "source": [
        "predictions = m_model.predict(X_valid)\n",
        "print('MAE score:'+ str(mean_absolute_error(predictions, y_valid)))"
      ],
      "execution_count": 16,
      "outputs": [
        {
          "output_type": "stream",
          "name": "stdout",
          "text": [
            "MAE score:238883.9568644146\n"
          ]
        }
      ]
    },
    {
      "cell_type": "code",
      "metadata": {
        "colab": {
          "base_uri": "https://localhost:8080/"
        },
        "id": "d5Kih8-hQPMZ",
        "outputId": "d99dfb76-33bd-4394-d645-226a484185aa"
      },
      "source": [
        "m_model = XGBRegressor(n_estimators=600)\n",
        "m_model.fit(X_train, y_train, \n",
        "            early_stopping_rounds=20, \n",
        "            eval_set=[(X_valid, y_valid)],\n",
        "            verbose=False\n",
        "            )"
      ],
      "execution_count": 23,
      "outputs": [
        {
          "output_type": "stream",
          "name": "stdout",
          "text": [
            "[12:39:24] WARNING: /workspace/src/objective/regression_obj.cu:152: reg:linear is now deprecated in favor of reg:squarederror.\n"
          ]
        },
        {
          "output_type": "execute_result",
          "data": {
            "text/plain": [
              "XGBRegressor(base_score=0.5, booster='gbtree', colsample_bylevel=1,\n",
              "             colsample_bynode=1, colsample_bytree=1, gamma=0,\n",
              "             importance_type='gain', learning_rate=0.1, max_delta_step=0,\n",
              "             max_depth=3, min_child_weight=1, missing=None, n_estimators=600,\n",
              "             n_jobs=1, nthread=None, objective='reg:linear', random_state=0,\n",
              "             reg_alpha=0, reg_lambda=1, scale_pos_weight=1, seed=None,\n",
              "             silent=None, subsample=1, verbosity=1)"
            ]
          },
          "metadata": {},
          "execution_count": 23
        }
      ]
    },
    {
      "cell_type": "code",
      "metadata": {
        "colab": {
          "base_uri": "https://localhost:8080/"
        },
        "id": "z-ZX416MQ5v-",
        "outputId": "46e23a1a-ffe0-4370-ab64-89a50183d743"
      },
      "source": [
        "predictions = m_model.predict(X_valid)\n",
        "print('MAE score:'+ str(mean_absolute_error(predictions, y_valid)))"
      ],
      "execution_count": 24,
      "outputs": [
        {
          "output_type": "stream",
          "name": "stdout",
          "text": [
            "MAE score:240421.75194219442\n"
          ]
        }
      ]
    },
    {
      "cell_type": "code",
      "metadata": {
        "colab": {
          "base_uri": "https://localhost:8080/"
        },
        "id": "gwU7mXqtQ8ez",
        "outputId": "365e1071-0337-4e50-a015-083c75654ab8"
      },
      "source": [
        "m_model = XGBRegressor(n_estimators=1000, learning_rate=0.05)\n",
        "m_model.fit(X_train, y_train, \n",
        "            early_stopping_rounds=20, \n",
        "            eval_set=[(X_valid, y_valid)],\n",
        "            verbose=False\n",
        "            )\n",
        "predictions = m_model.predict(X_valid)\n",
        "print('MAE score:'+ str(mean_absolute_error(predictions, y_valid)))"
      ],
      "execution_count": 26,
      "outputs": [
        {
          "output_type": "stream",
          "name": "stdout",
          "text": [
            "[12:40:54] WARNING: /workspace/src/objective/regression_obj.cu:152: reg:linear is now deprecated in favor of reg:squarederror.\n",
            "MAE score:240283.76755338733\n"
          ]
        }
      ]
    }
  ]
}