{
  "nbformat": 4,
  "nbformat_minor": 0,
  "metadata": {
    "colab": {
      "name": "cross-validation.ipynb",
      "provenance": [],
      "authorship_tag": "ABX9TyNyao8CZrlw1T9ap2+I/0PZ"
    },
    "kernelspec": {
      "name": "python3",
      "display_name": "Python 3"
    },
    "language_info": {
      "name": "python"
    }
  },
  "cells": [
    {
      "cell_type": "code",
      "metadata": {
        "id": "cpehDXWLGSI9"
      },
      "source": [
        "import pandas as pd\n",
        "from sklearn.model_selection import train_test_split\n",
        "url = 'https://raw.githubusercontent.com/mirokr/ml/main/melb_data.csv'\n",
        "data = pd.read_csv(url)"
      ],
      "execution_count": 1,
      "outputs": []
    },
    {
      "cell_type": "code",
      "metadata": {
        "id": "qyKeD-sNK1Wy"
      },
      "source": [
        "columns_to_use = ['Rooms', 'Distance','Landsize','BuildingArea','YearBuilt']\n",
        "X = data[columns_to_use]"
      ],
      "execution_count": 2,
      "outputs": []
    },
    {
      "cell_type": "code",
      "metadata": {
        "id": "YIEWukQ1LTNI"
      },
      "source": [
        "y = data.Price"
      ],
      "execution_count": 3,
      "outputs": []
    },
    {
      "cell_type": "code",
      "metadata": {
        "id": "i5vyZG3QLWdF"
      },
      "source": [
        "from sklearn.ensemble import RandomForestRegressor\n",
        "from sklearn.pipeline import Pipeline\n",
        "from sklearn.impute import SimpleImputer"
      ],
      "execution_count": 4,
      "outputs": []
    },
    {
      "cell_type": "code",
      "metadata": {
        "id": "el4oi_wDLq4p"
      },
      "source": [
        "m_pipeline = Pipeline(steps=[\n",
        "                             ('preprocessor', SimpleImputer()),\n",
        "                             ('model', RandomForestRegressor(n_estimators=65, random_state=0))\n",
        "])"
      ],
      "execution_count": 5,
      "outputs": []
    },
    {
      "cell_type": "code",
      "metadata": {
        "id": "c8pLAdaqMDFH"
      },
      "source": [
        "from sklearn.model_selection import cross_val_score"
      ],
      "execution_count": 6,
      "outputs": []
    },
    {
      "cell_type": "code",
      "metadata": {
        "colab": {
          "base_uri": "https://localhost:8080/"
        },
        "id": "62fdMAs-MNkv",
        "outputId": "a87f5d0b-dc7a-42ac-8806-b11ed407f04b"
      },
      "source": [
        "scores = -1 * cross_val_score(m_pipeline, X, y, cv=4, scoring='neg_mean_absolute_error')\n",
        "print('MAE scores\\n', scores)"
      ],
      "execution_count": 7,
      "outputs": [
        {
          "output_type": "stream",
          "name": "stdout",
          "text": [
            "MAE scores\n",
            " [306303.82937327 291489.3753473  258579.4838587  264323.0870456 ]\n"
          ]
        }
      ]
    },
    {
      "cell_type": "code",
      "metadata": {
        "id": "Dgtc7Z3TMkpI"
      },
      "source": [
        ""
      ],
      "execution_count": null,
      "outputs": []
    }
  ]
}