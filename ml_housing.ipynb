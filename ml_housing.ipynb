{
  "nbformat": 4,
  "nbformat_minor": 0,
  "metadata": {
    "colab": {
      "name": "ml_housing.ipynb",
      "provenance": [],
      "collapsed_sections": [],
      "authorship_tag": "ABX9TyNDuqj4kQIiM7EL6qc8Hcd8"
    },
    "kernelspec": {
      "name": "python3",
      "display_name": "Python 3"
    },
    "language_info": {
      "name": "python"
    }
  },
  "cells": [
    {
      "cell_type": "code",
      "metadata": {
        "id": "6g8h0QILr0AN"
      },
      "source": [
        "import pandas as pd\n",
        "from sklearn.model_selection import train_test_split"
      ],
      "execution_count": null,
      "outputs": []
    },
    {
      "cell_type": "code",
      "metadata": {
        "id": "gYM7SnAdufSA"
      },
      "source": [
        "url = 'https://raw.githubusercontent.com/mirokr/ml/main/melb_data.csv'\n"
      ],
      "execution_count": null,
      "outputs": []
    },
    {
      "cell_type": "code",
      "metadata": {
        "id": "v7jE8xD17Gj8"
      },
      "source": [
        "data = pd.read_csv(url)"
      ],
      "execution_count": null,
      "outputs": []
    },
    {
      "cell_type": "code",
      "metadata": {
        "id": "SShj70a682MY"
      },
      "source": [
        "y = data.Price\n",
        "melb_predict = data.drop(['Price'], axis=1)"
      ],
      "execution_count": null,
      "outputs": []
    },
    {
      "cell_type": "code",
      "metadata": {
        "id": "JT4TDIXy-XU2"
      },
      "source": [
        "X = melb_predict.select_dtypes(exclude=['object'])"
      ],
      "execution_count": null,
      "outputs": []
    },
    {
      "cell_type": "code",
      "metadata": {
        "id": "WUzTxGAb-h-r"
      },
      "source": [
        "X_train, X_valid, y_train, y_valid = train_test_split(X, y, train_size=0.8, test_size = 0.2, random_state=0) "
      ],
      "execution_count": null,
      "outputs": []
    },
    {
      "cell_type": "code",
      "metadata": {
        "id": "-ThvhDPl-48E"
      },
      "source": [
        "from sklearn.ensemble import RandomForestRegressor\n",
        "from sklearn.metrics import mean_absolute_error"
      ],
      "execution_count": null,
      "outputs": []
    },
    {
      "cell_type": "code",
      "metadata": {
        "id": "bSyp-BfE_HOy"
      },
      "source": [
        "def score_data(X_train,X_valid, y_train, y_valid):\n",
        "  model = RandomForestRegressor(n_estimators=15, random_state=0)\n",
        "  model.fit(X_train, y_train)\n",
        "  pred = model.predict(X_valid)\n",
        "  return mean_absolute_error(y_valid, pred)"
      ],
      "execution_count": null,
      "outputs": []
    },
    {
      "cell_type": "code",
      "metadata": {
        "id": "DiEeYS9W_5V2"
      },
      "source": [
        "columns_with_missing = [column for column in X_train.columns if X_train[column].isnull().any()]"
      ],
      "execution_count": null,
      "outputs": []
    },
    {
      "cell_type": "code",
      "metadata": {
        "colab": {
          "base_uri": "https://localhost:8080/"
        },
        "id": "R6LOT0fBAS4K",
        "outputId": "ac12ed9a-a16c-47c1-9ce7-130842f562eb"
      },
      "source": [
        "clean_X_train = X_train.drop(columns_with_missing, axis=1)\n",
        "clean_X_valid = X_valid.drop(columns_with_missing, axis=1)\n",
        "print('MAE from Removing Columns Method:')\n",
        "print(score_data(clean_X_train, clean_X_valid, y_train, y_valid))"
      ],
      "execution_count": null,
      "outputs": [
        {
          "output_type": "stream",
          "name": "stdout",
          "text": [
            "MAE from Removing Columns Method:\n",
            "181310.27503448114\n"
          ]
        }
      ]
    },
    {
      "cell_type": "code",
      "metadata": {
        "id": "2YXFPo0qBXoK"
      },
      "source": [
        "#imputation"
      ],
      "execution_count": null,
      "outputs": []
    },
    {
      "cell_type": "code",
      "metadata": {
        "id": "qyTQi4UGBmaV"
      },
      "source": [
        "from sklearn.impute import SimpleImputer"
      ],
      "execution_count": null,
      "outputs": []
    },
    {
      "cell_type": "code",
      "metadata": {
        "colab": {
          "base_uri": "https://localhost:8080/"
        },
        "id": "Ka8jv9glBtIR",
        "outputId": "6ac294b5-38ec-4f7a-b93c-08bd87e6000c"
      },
      "source": [
        "imputer = SimpleImputer()\n",
        "imputed_X_train = pd.DataFrame(imputer.fit_transform(X_train))\n",
        "imputed_X_valid = pd.DataFrame(imputer.fit_transform(X_valid))\n",
        "print('MAE using imputation')\n",
        "print(score_data(imputed_X_train, imputed_X_valid, y_train, y_valid))"
      ],
      "execution_count": null,
      "outputs": [
        {
          "output_type": "stream",
          "name": "stdout",
          "text": [
            "MAE using imputation\n",
            "176285.68010145638\n"
          ]
        }
      ]
    },
    {
      "cell_type": "code",
      "metadata": {
        "id": "olcqqLRQCodw"
      },
      "source": [
        "#extended imputation"
      ],
      "execution_count": null,
      "outputs": []
    },
    {
      "cell_type": "code",
      "metadata": {
        "id": "7W5WBH8WCwIP"
      },
      "source": [
        "X_train_ext = X_train.copy()\n",
        "X_valid_ext = X_valid.copy()"
      ],
      "execution_count": null,
      "outputs": []
    },
    {
      "cell_type": "code",
      "metadata": {
        "id": "jqkQEprYDHiA"
      },
      "source": [
        "for column in columns_with_missing:\n",
        "  X_train_ext[column + '_was_missing'] = X_train_ext[column].isnull()\n",
        "  X_valid_ext[column + '_was_missing'] = X_valid_ext[column].isnull()"
      ],
      "execution_count": null,
      "outputs": []
    },
    {
      "cell_type": "code",
      "metadata": {
        "id": "SLqTvjvGDp4-"
      },
      "source": [
        "imputer = SimpleImputer()"
      ],
      "execution_count": null,
      "outputs": []
    },
    {
      "cell_type": "code",
      "metadata": {
        "id": "LbOJODDDDwJc"
      },
      "source": [
        "imputed_X_train_ext = pd.DataFrame(imputer.fit_transform(X_train_ext))\n",
        "imputed_X_valid_ext = pd.DataFrame(imputer.fit_transform(X_valid_ext))"
      ],
      "execution_count": null,
      "outputs": []
    },
    {
      "cell_type": "code",
      "metadata": {
        "colab": {
          "base_uri": "https://localhost:8080/"
        },
        "id": "dKMt5OhHEWAR",
        "outputId": "a53795bb-7176-4225-8aca-7dfe672438f5"
      },
      "source": [
        "imputed_X_train_ext.columns = X_train_ext.columns\n",
        "imputed_X_valid_ext.columns = X_valid_ext.columns\n",
        "print('MAE with extended imputatiom')\n",
        "print(score_data(imputed_X_train_ext, imputed_X_valid_ext, y_train, y_valid))"
      ],
      "execution_count": null,
      "outputs": [
        {
          "output_type": "stream",
          "name": "stdout",
          "text": [
            "MAE with extended imputatiom\n",
            "176134.6387778479\n"
          ]
        }
      ]
    },
    {
      "cell_type": "code",
      "metadata": {
        "id": "C6w5_JvzFUt0"
      },
      "source": [
        "#categorical"
      ],
      "execution_count": 1,
      "outputs": []
    },
    {
      "cell_type": "code",
      "metadata": {
        "id": "RyqteN3Cu3Xc"
      },
      "source": [
        "import pandas as pd\n",
        "from sklearn.model_selection import train_test_split"
      ],
      "execution_count": 3,
      "outputs": []
    },
    {
      "cell_type": "code",
      "metadata": {
        "id": "iPrEoc7NvFpt"
      },
      "source": [
        "url = 'https://raw.githubusercontent.com/mirokr/ml/main/melb_data.csv'\n",
        "data = pd.read_csv(url)"
      ],
      "execution_count": 4,
      "outputs": []
    },
    {
      "cell_type": "code",
      "metadata": {
        "id": "ngK8wqaCvYh4"
      },
      "source": [
        "y = data.Price\n",
        "X = data.drop (['Price'], axis=1)"
      ],
      "execution_count": 5,
      "outputs": []
    },
    {
      "cell_type": "code",
      "metadata": {
        "id": "qMCCZEOWvjmT"
      },
      "source": [
        "X_train_full, X_valid_full, y_train, y_valid = train_test_split(X, y, train_size=0.75, test_size=0.25, random_state=0)"
      ],
      "execution_count": 7,
      "outputs": []
    },
    {
      "cell_type": "code",
      "metadata": {
        "id": "0cnh8Ygfv_tE",
        "outputId": "e55b7800-b1f4-4302-8d3f-c8874818de48",
        "colab": {
          "base_uri": "https://localhost:8080/"
        }
      },
      "source": [
        "#droping columns with missing values\n",
        "cols_with_missing = [col for col in X_train_full.columns if X_train_full[col].isnull().any()]\n",
        "X_train_full.drop(cols_with_missing, axis=1, inplace= True)\n",
        "X_valid_full.drop(cols_with_missing, axis=1, inplace= True)"
      ],
      "execution_count": 8,
      "outputs": [
        {
          "output_type": "stream",
          "name": "stderr",
          "text": [
            "/usr/local/lib/python3.7/dist-packages/pandas/core/frame.py:4174: SettingWithCopyWarning: \n",
            "A value is trying to be set on a copy of a slice from a DataFrame\n",
            "\n",
            "See the caveats in the documentation: https://pandas.pydata.org/pandas-docs/stable/user_guide/indexing.html#returning-a-view-versus-a-copy\n",
            "  errors=errors,\n"
          ]
        }
      ]
    },
    {
      "cell_type": "code",
      "metadata": {
        "id": "DS9yPJAEw2KB"
      },
      "source": [
        "low_card_columns = [colname for colname in X_train_full.columns  if X_train_full[colname].nunique() < 15 and X_train_full[colname].dtype == 'object']"
      ],
      "execution_count": 9,
      "outputs": []
    },
    {
      "cell_type": "code",
      "metadata": {
        "id": "Da3hD9-3xuZH"
      },
      "source": [
        "num_cols = [colname for colname in X_train_full.columns if X_train_full[colname].dtype in ['int32', 'int64', 'float64']]"
      ],
      "execution_count": 11,
      "outputs": []
    },
    {
      "cell_type": "code",
      "metadata": {
        "id": "XS271vR1yVUr"
      },
      "source": [
        "m_columns = low_card_columns + num_cols\n",
        "X_train = X_train_full[m_columns].copy()\n",
        "X_valid = X_valid_full[m_columns].copy()"
      ],
      "execution_count": 12,
      "outputs": []
    },
    {
      "cell_type": "code",
      "metadata": {
        "id": "Oeac5haWzDnt",
        "outputId": "78908a96-beb2-488a-d327-c068c28107f6",
        "colab": {
          "base_uri": "https://localhost:8080/",
          "height": 206
        }
      },
      "source": [
        "X_train.head()"
      ],
      "execution_count": 13,
      "outputs": [
        {
          "output_type": "execute_result",
          "data": {
            "text/html": [
              "<div>\n",
              "<style scoped>\n",
              "    .dataframe tbody tr th:only-of-type {\n",
              "        vertical-align: middle;\n",
              "    }\n",
              "\n",
              "    .dataframe tbody tr th {\n",
              "        vertical-align: top;\n",
              "    }\n",
              "\n",
              "    .dataframe thead th {\n",
              "        text-align: right;\n",
              "    }\n",
              "</style>\n",
              "<table border=\"1\" class=\"dataframe\">\n",
              "  <thead>\n",
              "    <tr style=\"text-align: right;\">\n",
              "      <th></th>\n",
              "      <th>Type</th>\n",
              "      <th>Method</th>\n",
              "      <th>Regionname</th>\n",
              "      <th>Rooms</th>\n",
              "      <th>Distance</th>\n",
              "      <th>Postcode</th>\n",
              "      <th>Bedroom2</th>\n",
              "      <th>Bathroom</th>\n",
              "      <th>Landsize</th>\n",
              "      <th>Lattitude</th>\n",
              "      <th>Longtitude</th>\n",
              "      <th>Propertycount</th>\n",
              "    </tr>\n",
              "  </thead>\n",
              "  <tbody>\n",
              "    <tr>\n",
              "      <th>664</th>\n",
              "      <td>h</td>\n",
              "      <td>S</td>\n",
              "      <td>Southern Metropolitan</td>\n",
              "      <td>3</td>\n",
              "      <td>9.2</td>\n",
              "      <td>3104.0</td>\n",
              "      <td>3.0</td>\n",
              "      <td>2.0</td>\n",
              "      <td>368.0</td>\n",
              "      <td>-37.78460</td>\n",
              "      <td>145.09350</td>\n",
              "      <td>7809.0</td>\n",
              "    </tr>\n",
              "    <tr>\n",
              "      <th>3270</th>\n",
              "      <td>h</td>\n",
              "      <td>S</td>\n",
              "      <td>Eastern Metropolitan</td>\n",
              "      <td>2</td>\n",
              "      <td>10.5</td>\n",
              "      <td>3081.0</td>\n",
              "      <td>2.0</td>\n",
              "      <td>1.0</td>\n",
              "      <td>586.0</td>\n",
              "      <td>-37.74350</td>\n",
              "      <td>145.04860</td>\n",
              "      <td>2947.0</td>\n",
              "    </tr>\n",
              "    <tr>\n",
              "      <th>3873</th>\n",
              "      <td>h</td>\n",
              "      <td>S</td>\n",
              "      <td>Southern Metropolitan</td>\n",
              "      <td>2</td>\n",
              "      <td>11.2</td>\n",
              "      <td>3145.0</td>\n",
              "      <td>2.0</td>\n",
              "      <td>1.0</td>\n",
              "      <td>348.0</td>\n",
              "      <td>-37.86720</td>\n",
              "      <td>145.04320</td>\n",
              "      <td>8801.0</td>\n",
              "    </tr>\n",
              "    <tr>\n",
              "      <th>13170</th>\n",
              "      <td>h</td>\n",
              "      <td>S</td>\n",
              "      <td>Northern Metropolitan</td>\n",
              "      <td>3</td>\n",
              "      <td>19.6</td>\n",
              "      <td>3076.0</td>\n",
              "      <td>3.0</td>\n",
              "      <td>1.0</td>\n",
              "      <td>521.0</td>\n",
              "      <td>-37.63854</td>\n",
              "      <td>145.05179</td>\n",
              "      <td>10926.0</td>\n",
              "    </tr>\n",
              "    <tr>\n",
              "      <th>1730</th>\n",
              "      <td>h</td>\n",
              "      <td>S</td>\n",
              "      <td>Southern Metropolitan</td>\n",
              "      <td>4</td>\n",
              "      <td>11.4</td>\n",
              "      <td>3163.0</td>\n",
              "      <td>3.0</td>\n",
              "      <td>2.0</td>\n",
              "      <td>687.0</td>\n",
              "      <td>-37.89310</td>\n",
              "      <td>145.04790</td>\n",
              "      <td>7822.0</td>\n",
              "    </tr>\n",
              "  </tbody>\n",
              "</table>\n",
              "</div>"
            ],
            "text/plain": [
              "      Type Method             Regionname  ...  Lattitude  Longtitude  Propertycount\n",
              "664      h      S  Southern Metropolitan  ...  -37.78460   145.09350         7809.0\n",
              "3270     h      S   Eastern Metropolitan  ...  -37.74350   145.04860         2947.0\n",
              "3873     h      S  Southern Metropolitan  ...  -37.86720   145.04320         8801.0\n",
              "13170    h      S  Northern Metropolitan  ...  -37.63854   145.05179        10926.0\n",
              "1730     h      S  Southern Metropolitan  ...  -37.89310   145.04790         7822.0\n",
              "\n",
              "[5 rows x 12 columns]"
            ]
          },
          "metadata": {},
          "execution_count": 13
        }
      ]
    },
    {
      "cell_type": "code",
      "metadata": {
        "id": "0Ma_bM0OzH6K",
        "outputId": "7a5cdbc8-492e-461b-fabe-b96bfb73de9b",
        "colab": {
          "base_uri": "https://localhost:8080/"
        }
      },
      "source": [
        "#list of categorical \n",
        "l = (X_train.dtypes == 'object')\n",
        "object_col = list(l[l].index)\n",
        "\n",
        "print('Categorical variables:')\n",
        "print(object_col)"
      ],
      "execution_count": 14,
      "outputs": [
        {
          "output_type": "stream",
          "name": "stdout",
          "text": [
            "Categorical variables:\n",
            "['Type', 'Method', 'Regionname']\n"
          ]
        }
      ]
    },
    {
      "cell_type": "code",
      "metadata": {
        "id": "_DMd6D6Bz4ka"
      },
      "source": [
        "#check quality"
      ],
      "execution_count": 15,
      "outputs": []
    },
    {
      "cell_type": "code",
      "metadata": {
        "id": "4CQGJwvi0Nvj"
      },
      "source": [
        "from sklearn.ensemble import RandomForestRegressor\n",
        "from sklearn.metrics import mean_absolute_error"
      ],
      "execution_count": 16,
      "outputs": []
    },
    {
      "cell_type": "code",
      "metadata": {
        "id": "maFlwCpO0Yf1"
      },
      "source": [
        "def score_data(X_train, X_valid, y_train, y_valid):\n",
        "  model = RandomForestRegressor(n_estimators=110, random_state=0)\n",
        "  model.fit(X_train, y_train)\n",
        "  pred = model.predict(X_valid)\n",
        "  return mean_absolute_error(y_valid, pred)\n"
      ],
      "execution_count": 17,
      "outputs": []
    },
    {
      "cell_type": "code",
      "metadata": {
        "id": "6ic9Zw491KMi",
        "outputId": "38a0297d-65c5-4ae7-95dc-bd6d284f0a91",
        "colab": {
          "base_uri": "https://localhost:8080/"
        }
      },
      "source": [
        "drop_X_train = X_train.select_dtypes(exclude=['object'])\n",
        "drop_X_valid = X_valid.select_dtypes(exclude=['object'])\n",
        "\n",
        "print('MAE when droping categorical:')\n",
        "print(score_data(drop_X_train, drop_X_valid, y_train, y_valid))"
      ],
      "execution_count": 18,
      "outputs": [
        {
          "output_type": "stream",
          "name": "stdout",
          "text": [
            "MAE when droping categorical:\n",
            "179228.6127520524\n"
          ]
        }
      ]
    },
    {
      "cell_type": "code",
      "metadata": {
        "id": "bg9oIhkE1-fP"
      },
      "source": [
        "#ordinal encoding"
      ],
      "execution_count": 19,
      "outputs": []
    },
    {
      "cell_type": "code",
      "metadata": {
        "id": "ICserC2Z2I6Z"
      },
      "source": [
        "from sklearn.preprocessing import OrdinalEncoder"
      ],
      "execution_count": 20,
      "outputs": []
    },
    {
      "cell_type": "code",
      "metadata": {
        "id": "zPoPkz9-2RDI",
        "outputId": "daadac2f-82cd-43ab-c679-9910974618eb",
        "colab": {
          "base_uri": "https://localhost:8080/"
        }
      },
      "source": [
        "lab_X_train = X_train.copy()\n",
        "lab_X_valid = X_valid.copy()\n",
        "\n",
        "ordinal_encoder = OrdinalEncoder()\n",
        "lab_X_train[object_col] = ordinal_encoder.fit_transform(X_train[object_col])\n",
        "lab_X_valid[object_col] = ordinal_encoder.transform(X_valid[object_col])\n",
        "\n",
        "print('MAE with ordinal encoding')\n",
        "print(score_data(lab_X_train, lab_X_valid, y_train, y_valid))"
      ],
      "execution_count": 26,
      "outputs": [
        {
          "output_type": "stream",
          "name": "stdout",
          "text": [
            "MAE with ordinal encoding\n",
            "169992.70913043755\n"
          ]
        }
      ]
    },
    {
      "cell_type": "code",
      "metadata": {
        "id": "WAe4_7E33XQH"
      },
      "source": [
        "#hot encoder"
      ],
      "execution_count": 22,
      "outputs": []
    },
    {
      "cell_type": "code",
      "metadata": {
        "id": "H1dTLiPI3ocx"
      },
      "source": [
        "from sklearn.preprocessing import OneHotEncoder"
      ],
      "execution_count": 23,
      "outputs": []
    },
    {
      "cell_type": "code",
      "metadata": {
        "id": "2fv6X_vy3upT"
      },
      "source": [
        "oh_encoder = OneHotEncoder(handle_unknown='ignore', sparse=False)\n",
        "oh_cols_train = pd.DataFrame(oh_encoder.fit_transform(X_train[object_col]))\n",
        "oh_cols_valid = pd.DataFrame(oh_encoder.transform(X_valid[object_col]))\n",
        "\n",
        "#put back index\n",
        "oh_cols_train.index = X_train.index\n",
        "oh_cols_valid.index = X_valid.index"
      ],
      "execution_count": 25,
      "outputs": []
    },
    {
      "cell_type": "code",
      "metadata": {
        "id": "z5pYyjKW4lMz",
        "outputId": "53c35fa3-6ed5-4055-fc8f-58f5cab53f70",
        "colab": {
          "base_uri": "https://localhost:8080/"
        }
      },
      "source": [
        "#remove categorical\n",
        "n_X_train = X_train.drop(object_col, axis=1)\n",
        "n_X_valid = X_valid.drop(object_col, axis=1)\n",
        "#add oh encoded columns\n",
        "oh_X_train = pd.concat([n_X_train, oh_cols_train], axis=1)\n",
        "oh_X_valid = pd.concat([n_X_valid, oh_cols_valid], axis=1)\n",
        "\n",
        "print('MAE with OH Encoding:')\n",
        "print(score_data(oh_X_train, oh_X_valid, y_train, y_valid))"
      ],
      "execution_count": 28,
      "outputs": [
        {
          "output_type": "stream",
          "name": "stdout",
          "text": [
            "MAE with OH Encoding:\n",
            "168987.16114313767\n"
          ]
        }
      ]
    },
    {
      "cell_type": "code",
      "metadata": {
        "id": "NOtE8Yfy5ct9"
      },
      "source": [
        "#pipelines"
      ],
      "execution_count": 29,
      "outputs": []
    },
    {
      "cell_type": "code",
      "metadata": {
        "id": "8Tzvo2ez7dMY"
      },
      "source": [
        ""
      ],
      "execution_count": null,
      "outputs": []
    }
  ]
}