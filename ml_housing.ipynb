{
  "nbformat": 4,
  "nbformat_minor": 0,
  "metadata": {
    "colab": {
      "name": "ml_housing.ipynb",
      "provenance": [],
      "collapsed_sections": [],
      "authorship_tag": "ABX9TyOlHxFq4vnpgXn8r4ox73CW"
    },
    "kernelspec": {
      "name": "python3",
      "display_name": "Python 3"
    },
    "language_info": {
      "name": "python"
    }
  },
  "cells": [
    {
      "cell_type": "code",
      "metadata": {
        "id": "6g8h0QILr0AN"
      },
      "source": [
        "import pandas as pd\n",
        "from sklearn.model_selection import train_test_split"
      ],
      "execution_count": 35,
      "outputs": []
    },
    {
      "cell_type": "code",
      "metadata": {
        "id": "gYM7SnAdufSA"
      },
      "source": [
        "url = 'https://raw.githubusercontent.com/mirokr/ml/main/melb_data.csv'\n"
      ],
      "execution_count": 45,
      "outputs": []
    },
    {
      "cell_type": "code",
      "metadata": {
        "id": "v7jE8xD17Gj8"
      },
      "source": [
        "data = pd.read_csv(url)"
      ],
      "execution_count": 46,
      "outputs": []
    },
    {
      "cell_type": "code",
      "metadata": {
        "id": "SShj70a682MY"
      },
      "source": [
        "y = data.Price\n",
        "melb_predict = data.drop(['Price'], axis=1)"
      ],
      "execution_count": 48,
      "outputs": []
    },
    {
      "cell_type": "code",
      "metadata": {
        "id": "JT4TDIXy-XU2"
      },
      "source": [
        "X = melb_predict.select_dtypes(exclude=['object'])"
      ],
      "execution_count": 49,
      "outputs": []
    },
    {
      "cell_type": "code",
      "metadata": {
        "id": "WUzTxGAb-h-r"
      },
      "source": [
        "X_train, X_valid, y_train, y_valid = train_test_split(X, y, train_size=0.8, test_size = 0.2, random_state=0) "
      ],
      "execution_count": 50,
      "outputs": []
    },
    {
      "cell_type": "code",
      "metadata": {
        "id": "-ThvhDPl-48E"
      },
      "source": [
        "from sklearn.ensemble import RandomForestRegressor\n",
        "from sklearn.metrics import mean_absolute_error"
      ],
      "execution_count": 51,
      "outputs": []
    },
    {
      "cell_type": "code",
      "metadata": {
        "id": "bSyp-BfE_HOy"
      },
      "source": [
        "def score_data(X_train,X_valid, y_train, y_valid):\n",
        "  model = RandomForestRegressor(n_estimators=15, random_state=0)\n",
        "  model.fit(X_train, y_train)\n",
        "  pred = model.predict(X_valid)\n",
        "  return mean_absolute_error(y_valid, pred)"
      ],
      "execution_count": 52,
      "outputs": []
    },
    {
      "cell_type": "code",
      "metadata": {
        "id": "DiEeYS9W_5V2"
      },
      "source": [
        "columns_with_missing = [column for column in X_train.columns if X_train[column].isnull().any()]"
      ],
      "execution_count": 54,
      "outputs": []
    },
    {
      "cell_type": "code",
      "metadata": {
        "colab": {
          "base_uri": "https://localhost:8080/"
        },
        "id": "R6LOT0fBAS4K",
        "outputId": "ac12ed9a-a16c-47c1-9ce7-130842f562eb"
      },
      "source": [
        "clean_X_train = X_train.drop(columns_with_missing, axis=1)\n",
        "clean_X_valid = X_valid.drop(columns_with_missing, axis=1)\n",
        "print('MAE from Removing Columns Method:')\n",
        "print(score_data(clean_X_train, clean_X_valid, y_train, y_valid))"
      ],
      "execution_count": 56,
      "outputs": [
        {
          "output_type": "stream",
          "name": "stdout",
          "text": [
            "MAE from Removing Columns Method:\n",
            "181310.27503448114\n"
          ]
        }
      ]
    },
    {
      "cell_type": "code",
      "metadata": {
        "id": "2YXFPo0qBXoK"
      },
      "source": [
        "#imputation"
      ],
      "execution_count": null,
      "outputs": []
    },
    {
      "cell_type": "code",
      "metadata": {
        "id": "qyTQi4UGBmaV"
      },
      "source": [
        "from sklearn.impute import SimpleImputer"
      ],
      "execution_count": 57,
      "outputs": []
    },
    {
      "cell_type": "code",
      "metadata": {
        "colab": {
          "base_uri": "https://localhost:8080/"
        },
        "id": "Ka8jv9glBtIR",
        "outputId": "6ac294b5-38ec-4f7a-b93c-08bd87e6000c"
      },
      "source": [
        "imputer = SimpleImputer()\n",
        "imputed_X_train = pd.DataFrame(imputer.fit_transform(X_train))\n",
        "imputed_X_valid = pd.DataFrame(imputer.fit_transform(X_valid))\n",
        "print('MAE using imputation')\n",
        "print(score_data(imputed_X_train, imputed_X_valid, y_train, y_valid))"
      ],
      "execution_count": 58,
      "outputs": [
        {
          "output_type": "stream",
          "name": "stdout",
          "text": [
            "MAE using imputation\n",
            "176285.68010145638\n"
          ]
        }
      ]
    },
    {
      "cell_type": "code",
      "metadata": {
        "id": "olcqqLRQCodw"
      },
      "source": [
        "#extended imputation"
      ],
      "execution_count": 59,
      "outputs": []
    },
    {
      "cell_type": "code",
      "metadata": {
        "id": "7W5WBH8WCwIP"
      },
      "source": [
        "X_train_ext = X_train.copy()\n",
        "X_valid_ext = X_valid.copy()"
      ],
      "execution_count": 60,
      "outputs": []
    },
    {
      "cell_type": "code",
      "metadata": {
        "id": "jqkQEprYDHiA"
      },
      "source": [
        "for column in columns_with_missing:\n",
        "  X_train_ext[column + '_was_missing'] = X_train_ext[column].isnull()\n",
        "  X_valid_ext[column + '_was_missing'] = X_valid_ext[column].isnull()"
      ],
      "execution_count": 61,
      "outputs": []
    },
    {
      "cell_type": "code",
      "metadata": {
        "id": "SLqTvjvGDp4-"
      },
      "source": [
        "imputer = SimpleImputer()"
      ],
      "execution_count": 62,
      "outputs": []
    },
    {
      "cell_type": "code",
      "metadata": {
        "id": "LbOJODDDDwJc"
      },
      "source": [
        "imputed_X_train_ext = pd.DataFrame(imputer.fit_transform(X_train_ext))\n",
        "imputed_X_valid_ext = pd.DataFrame(imputer.fit_transform(X_valid_ext))"
      ],
      "execution_count": 64,
      "outputs": []
    },
    {
      "cell_type": "code",
      "metadata": {
        "colab": {
          "base_uri": "https://localhost:8080/"
        },
        "id": "dKMt5OhHEWAR",
        "outputId": "a53795bb-7176-4225-8aca-7dfe672438f5"
      },
      "source": [
        "imputed_X_train_ext.columns = X_train_ext.columns\n",
        "imputed_X_valid_ext.columns = X_valid_ext.columns\n",
        "print('MAE with extended imputatiom')\n",
        "print(score_data(imputed_X_train_ext, imputed_X_valid_ext, y_train, y_valid))"
      ],
      "execution_count": 66,
      "outputs": [
        {
          "output_type": "stream",
          "name": "stdout",
          "text": [
            "MAE with extended imputatiom\n",
            "176134.6387778479\n"
          ]
        }
      ]
    },
    {
      "cell_type": "code",
      "metadata": {
        "id": "C6w5_JvzFUt0"
      },
      "source": [
        ""
      ],
      "execution_count": null,
      "outputs": []
    }
  ]
}